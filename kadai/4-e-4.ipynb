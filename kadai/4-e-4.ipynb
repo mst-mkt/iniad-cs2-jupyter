{
 "cells": [
  {
   "cell_type": "code",
   "execution_count": 1,
   "metadata": {},
   "outputs": [],
   "source": [
    "def find_pivot(lst: list[tuple[int, str]], start: int, end: int) -> int | None:\n",
    "    for i in  range(start + 1, end + 1):\n",
    "        if lst[i][0] > lst[start][0]:\n",
    "            return lst[i][0]\n",
    "        if lst[i][0] < lst[start][0]:\n",
    "            return lst[start][0]\n",
    "    return None\n",
    "\n",
    "def partition(lst: list[tuple[int, str]], left: int, right: int, pivot: int) -> int:\n",
    "    while left <= right:\n",
    "        while lst[left][0] < pivot:\n",
    "            left += 1\n",
    "        while lst[right][0] >= pivot and right >= 0:\n",
    "            right -= 1\n",
    "        if left <= right:\n",
    "            lst[left], lst[right] = lst[right], lst[left]\n",
    "            left += 1\n",
    "            right -= 1\n",
    "    return left\n",
    "\n",
    "def qsort_inner(lst: list[tuple[int, str]], start: int, end: int) -> None:\n",
    "    if start >= end:\n",
    "        return\n",
    "    pivot = find_pivot(lst, start, end)\n",
    "    if pivot is None:\n",
    "        return\n",
    "    index = partition(lst, start, end, pivot)\n",
    "    qsort_inner(lst, start, index - 1)\n",
    "    qsort_inner(lst, index, end)\n",
    "\n",
    "def qsort(lst: list[tuple[int, str]]) -> None:\n",
    "    qsort_inner(lst, 0, len(lst) - 1)\n"
   ]
  },
  {
   "cell_type": "code",
   "execution_count": 2,
   "metadata": {},
   "outputs": [
    {
     "name": "stdout",
     "output_type": "stream",
     "text": [
      "[(1, 'Apple'), (1, 'Apricot'), (2, 'Banana'), (3, 'Durian'), (3, 'Dragonfruit'), (4, 'Kiwi'), (5, 'Mango'), (5, 'Muskmelon'), (6, 'Orange'), (7, 'Peach'), (7, 'Papaya'), (8, 'Strawberry')]\n"
     ]
    }
   ],
   "source": [
    "xs: list[tuple[int, str]] = [\n",
    "    (1, 'Apple'),\n",
    "    (2, 'Banana'),\n",
    "    (1, 'Apricot'),\n",
    "    (4, 'Kiwi'),\n",
    "    (7, 'Papaya'),\n",
    "    (3, 'Dragonfruit'),\n",
    "    (5, 'Mango'),\n",
    "    (6, 'Orange'),\n",
    "    (8, 'Strawberry'),\n",
    "    (3, 'Durian'),\n",
    "    (5, 'Muskmelon'),\n",
    "    (7, 'Peach'),\n",
    "]\n",
    "qsort(xs)\n",
    "print(xs)\n"
   ]
  }
 ],
 "metadata": {
  "kernelspec": {
   "display_name": "venv",
   "language": "python",
   "name": "python3"
  },
  "language_info": {
   "codemirror_mode": {
    "name": "ipython",
    "version": 3
   },
   "file_extension": ".py",
   "mimetype": "text/x-python",
   "name": "python",
   "nbconvert_exporter": "python",
   "pygments_lexer": "ipython3",
   "version": "3.12.0"
  }
 },
 "nbformat": 4,
 "nbformat_minor": 2
}
