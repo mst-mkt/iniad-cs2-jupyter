{
 "cells": [
  {
   "cell_type": "code",
   "execution_count": 1,
   "metadata": {},
   "outputs": [],
   "source": [
    "def binary_search_count(lst: list[int], target: int) -> tuple[list[int], int]:\n",
    "    count = 0\n",
    "    compared: list[int] = []\n",
    "    start, end = 0, len(lst)\n",
    "\n",
    "    while start < end:\n",
    "        mid = start + (end - start) // 2\n",
    "        compared.append(lst[mid])\n",
    "        count += 1\n",
    "        if lst[mid] == target:\n",
    "            return compared, count\n",
    "        elif lst[mid] > target:\n",
    "            end = mid\n",
    "        else:\n",
    "            start = mid + 1\n",
    "    return compared, count\n"
   ]
  },
  {
   "cell_type": "code",
   "execution_count": 2,
   "metadata": {},
   "outputs": [
    {
     "name": "stdout",
     "output_type": "stream",
     "text": [
      "27, 55, 80, 68\n",
      "4\n"
     ]
    }
   ],
   "source": [
    "lst_2 = [1, 3, 10, 18, 22, 27, 35, 54, 55, 68, 80]\n",
    "target_2 = 68\n",
    "compared_2, count_2 = binary_search_count(lst_2, target_2)\n",
    "\n",
    "print(\", \".join(map(str, compared_2)))\n",
    "print(count_2)\n"
   ]
  },
  {
   "cell_type": "code",
   "execution_count": 3,
   "metadata": {},
   "outputs": [
    {
     "name": "stdout",
     "output_type": "stream",
     "text": [
      "43, 24, 38, 31\n",
      "4\n"
     ]
    }
   ],
   "source": [
    "lst_2 = [2, 5, 12, 24, 31, 38, 43, 48, 57, 69, 88, 93, 99]\n",
    "target_2 = 31\n",
    "compared_2, count_2 = binary_search_count(lst_2, target_2)\n",
    "\n",
    "print(\", \".join(map(str, compared_2)))\n",
    "print(count_2)\n"
   ]
  }
 ],
 "metadata": {
  "kernelspec": {
   "display_name": "venv",
   "language": "python",
   "name": "python3"
  },
  "language_info": {
   "codemirror_mode": {
    "name": "ipython",
    "version": 3
   },
   "file_extension": ".py",
   "mimetype": "text/x-python",
   "name": "python",
   "nbconvert_exporter": "python",
   "pygments_lexer": "ipython3",
   "version": "3.12.0"
  }
 },
 "nbformat": 4,
 "nbformat_minor": 2
}
