{
 "cells": [
  {
   "cell_type": "code",
   "execution_count": 1,
   "metadata": {},
   "outputs": [],
   "source": [
    "def quick_sort_separate_count(lst: list[int]) -> int:\n",
    "    if len(lst) <= 1:\n",
    "        return 0\n",
    "    else:\n",
    "        pivot_index = len(lst) // 2\n",
    "        pivot = lst[pivot_index]\n",
    "        left = [x for x in lst[:pivot_index] if x <= pivot] + [x for x in lst[pivot_index + 1:] if x <= pivot]\n",
    "        middle = [lst[pivot_index]]\n",
    "        right = [x for x in lst[:pivot_index] if x > pivot] + [x for x in lst[pivot_index + 1:] if x > pivot]\n",
    "        return quick_sort_separate_count(left) + quick_sort_separate_count(right) + 1\n"
   ]
  },
  {
   "cell_type": "code",
   "execution_count": 2,
   "metadata": {},
   "outputs": [
    {
     "data": {
      "text/plain": [
       "6"
      ]
     },
     "execution_count": 2,
     "metadata": {},
     "output_type": "execute_result"
    }
   ],
   "source": [
    "lst = [3, 8, 2, 9, 1, 7, 4, 6, 5]\n",
    "\n",
    "quick_sort_separate_count(lst)\n"
   ]
  }
 ],
 "metadata": {
  "kernelspec": {
   "display_name": "venv",
   "language": "python",
   "name": "python3"
  },
  "language_info": {
   "codemirror_mode": {
    "name": "ipython",
    "version": 3
   },
   "file_extension": ".py",
   "mimetype": "text/x-python",
   "name": "python",
   "nbconvert_exporter": "python",
   "pygments_lexer": "ipython3",
   "version": "3.12.0"
  }
 },
 "nbformat": 4,
 "nbformat_minor": 2
}
