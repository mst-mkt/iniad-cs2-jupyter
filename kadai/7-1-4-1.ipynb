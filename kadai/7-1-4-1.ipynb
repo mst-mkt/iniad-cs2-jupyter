{
 "cells": [
  {
   "cell_type": "code",
   "execution_count": 1,
   "metadata": {},
   "outputs": [],
   "source": [
    "from collections import deque\n"
   ]
  },
  {
   "cell_type": "code",
   "execution_count": 2,
   "metadata": {},
   "outputs": [],
   "source": [
    "stack: deque[int] = deque()\n"
   ]
  },
  {
   "cell_type": "code",
   "execution_count": 3,
   "metadata": {},
   "outputs": [
    {
     "name": "stdout",
     "output_type": "stream",
     "text": [
      "last_value: 2\n",
      "stack_length: 3\n"
     ]
    }
   ],
   "source": [
    "stack.appendleft(3)\n",
    "stack.appendleft(5)\n",
    "stack.appendleft(1)\n",
    "stack.popleft()\n",
    "stack.popleft()\n",
    "stack.appendleft(8)\n",
    "stack.appendleft(6)\n",
    "stack.appendleft(2)\n",
    "stack.appendleft(7)\n",
    "stack.popleft()\n",
    "print(\"last_value:\", stack.popleft())\n",
    "print(\"stack_length:\", len(stack))\n"
   ]
  }
 ],
 "metadata": {
  "kernelspec": {
   "display_name": "venv",
   "language": "python",
   "name": "python3"
  },
  "language_info": {
   "codemirror_mode": {
    "name": "ipython",
    "version": 3
   },
   "file_extension": ".py",
   "mimetype": "text/x-python",
   "name": "python",
   "nbconvert_exporter": "python",
   "pygments_lexer": "ipython3",
   "version": "3.12.0"
  }
 },
 "nbformat": 4,
 "nbformat_minor": 2
}
