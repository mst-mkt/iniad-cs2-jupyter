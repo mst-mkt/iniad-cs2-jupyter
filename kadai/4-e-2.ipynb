{
 "cells": [
  {
   "cell_type": "code",
   "execution_count": 1,
   "metadata": {},
   "outputs": [],
   "source": [
    "const quickSortCount = (arr: number[]): number => {\n",
    "    if (arr.length <= 1) return 1;\n",
    "\n",
    "    const pivot = arr[0];\n",
    "    const left = arr.filter((x) => x < pivot);\n",
    "    const right = arr.filter((x) => x > pivot);\n",
    "\n",
    "    return 1 + quickSortCount(left) + quickSortCount(right);\n",
    "}"
   ]
  },
  {
   "cell_type": "code",
   "execution_count": 2,
   "metadata": {},
   "outputs": [
    {
     "name": "stdout",
     "output_type": "stream",
     "text": [
      "11\n"
     ]
    },
    {
     "name": "stdout",
     "output_type": "stream",
     "text": [
      "19\n"
     ]
    }
   ],
   "source": [
    "const listA = [1, 3, 5, 7, 9, 10, 8, 6, 4, 2]\n",
    "const listB = [1, 2, 3, 4, 5, 6, 7, 8, 9, 10]\n",
    "\n",
    "console.log(quickSortCount(listA))\n",
    "console.log(quickSortCount(listB))"
   ]
  }
 ],
 "metadata": {
  "kernelspec": {
   "display_name": "TypeScript",
   "language": "typescript",
   "name": "tslab"
  },
  "language_info": {
   "codemirror_mode": {
    "mode": "typescript",
    "name": "javascript",
    "typescript": true
   },
   "file_extension": ".ts",
   "mimetype": "text/typescript",
   "name": "typescript",
   "version": "3.7.2"
  },
  "orig_nbformat": 4
 },
 "nbformat": 4,
 "nbformat_minor": 2
}
