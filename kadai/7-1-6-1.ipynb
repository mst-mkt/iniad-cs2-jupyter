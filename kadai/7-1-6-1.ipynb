{
 "cells": [
  {
   "cell_type": "code",
   "execution_count": 1,
   "metadata": {},
   "outputs": [],
   "source": [
    "from collections import deque\n"
   ]
  },
  {
   "cell_type": "code",
   "execution_count": 2,
   "metadata": {},
   "outputs": [],
   "source": [
    "class Node:\n",
    "    def __init__(self: \"Node\", value: str) -> None:\n",
    "        self.value = value\n",
    "        self.is_traversed = False\n",
    "        self.links: list[\"Node\"] = []\n",
    "\n",
    "    def __str__(self) -> str:\n",
    "        return self.value\n",
    "\n",
    "    def add_link(self: \"Node\", node: \"Node\") -> None:\n",
    "        self.links.append(node)\n",
    "\n",
    "    def adjacent(self: \"Node\", node: \"Node\") -> bool:\n",
    "        return node in self.links\n"
   ]
  },
  {
   "cell_type": "code",
   "execution_count": 3,
   "metadata": {},
   "outputs": [],
   "source": [
    "def depth_first_traversal(node: Node) -> None:\n",
    "    node.is_traversed = True\n",
    "    print(node, end=\", \")\n",
    "\n",
    "    for next in node.links:\n",
    "        if not next.is_traversed:\n",
    "            depth_first_traversal(next)\n",
    "\n",
    "def breadth_first_traversal(node: Node) -> None:\n",
    "    queue: deque[Node] = deque()\n",
    "    queue.append(node)\n",
    "    node.is_traversed = True\n",
    "\n",
    "    while len(queue) > 0:\n",
    "        node = queue.popleft()\n",
    "        print(node, end=\", \")\n",
    "        for next in node.links:\n",
    "            if not next.is_traversed:\n",
    "                queue.append(next)\n",
    "                next.is_traversed = True\n",
    "\n",
    "def reset_traversed(nodes: list[Node]) -> None:\n",
    "    for node in nodes:\n",
    "        node.is_traversed = False\n"
   ]
  },
  {
   "cell_type": "code",
   "execution_count": 4,
   "metadata": {},
   "outputs": [],
   "source": [
    "def make_graph() -> list[Node]:\n",
    "    a = Node(\"A\")\n",
    "    b = Node(\"B\")\n",
    "    c = Node(\"C\")\n",
    "    d = Node(\"D\")\n",
    "    e = Node(\"E\")\n",
    "    f = Node(\"F\")\n",
    "\n",
    "    a.add_link(b)\n",
    "    a.add_link(c)\n",
    "    a.add_link(d)\n",
    "    b.add_link(c)\n",
    "    b.add_link(f)\n",
    "    c.add_link(f)\n",
    "    d.add_link(c)\n",
    "    e.add_link(c)\n",
    "    e.add_link(d)\n",
    "    f.add_link(e)\n",
    "\n",
    "    return [a, b, c, d, e, f]\n",
    "\n",
    "graph = make_graph()\n"
   ]
  },
  {
   "cell_type": "code",
   "execution_count": 5,
   "metadata": {},
   "outputs": [
    {
     "name": "stdout",
     "output_type": "stream",
     "text": [
      "Depth First Traversal\n",
      "A, B, C, F, E, D, \n",
      "Breadth First Traversal\n",
      "A, B, C, D, F, E, "
     ]
    }
   ],
   "source": [
    "reset_traversed(graph)\n",
    "print(\"Depth First Traversal\")\n",
    "depth_first_traversal(graph[0])\n",
    "reset_traversed(graph)\n",
    "print(\"\\nBreadth First Traversal\")\n",
    "breadth_first_traversal(graph[0])\n"
   ]
  }
 ],
 "metadata": {
  "kernelspec": {
   "display_name": "venv",
   "language": "python",
   "name": "python3"
  },
  "language_info": {
   "codemirror_mode": {
    "name": "ipython",
    "version": 3
   },
   "file_extension": ".py",
   "mimetype": "text/x-python",
   "name": "python",
   "nbconvert_exporter": "python",
   "pygments_lexer": "ipython3",
   "version": "3.12.0"
  }
 },
 "nbformat": 4,
 "nbformat_minor": 2
}
