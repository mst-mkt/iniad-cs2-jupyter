{
 "cells": [
  {
   "cell_type": "code",
   "execution_count": 1,
   "metadata": {},
   "outputs": [],
   "source": [
    "from typing import Optional\n"
   ]
  },
  {
   "cell_type": "code",
   "execution_count": 2,
   "metadata": {},
   "outputs": [],
   "source": [
    "class Node:\n",
    "    def __init__(\n",
    "        self: \"Node\",\n",
    "        value: int,\n",
    "        left: Optional[\"Node\"] = None,\n",
    "        right: Optional[\"Node\"] = None,\n",
    "    ) -> None:\n",
    "        self.value = value\n",
    "        self.left = left\n",
    "        self.right = right\n",
    "\n",
    "\n",
    "def make_tree(n: int) -> Node:\n",
    "    if n <= 0:\n",
    "        return Node(n)\n",
    "    node = Node(n)\n",
    "    node.left = make_tree(n - 1)\n",
    "    node.right = make_tree(n - 1)\n",
    "    return node\n"
   ]
  },
  {
   "cell_type": "code",
   "execution_count": 3,
   "metadata": {},
   "outputs": [],
   "source": [
    "def count(node: Node) -> int:\n",
    "    if node.left is not None:\n",
    "        left_count = count(node.left)\n",
    "    else:\n",
    "        left_count = 0\n",
    "    if node.right is not None:\n",
    "        right_count = count(node.right)\n",
    "    else:\n",
    "        right_count = 0\n",
    "    return left_count + right_count + 1\n",
    "\n",
    "\n",
    "def height(node: Node) -> int:\n",
    "    if node.left is not None:\n",
    "        left_height = height(node.left) + 1\n",
    "    else:\n",
    "        left_height = 0\n",
    "    if node.right is not None:\n",
    "        right_height = height(node.right) + 1\n",
    "    else:\n",
    "        right_height = 0\n",
    "    return max(left_height, right_height)\n"
   ]
  },
  {
   "cell_type": "code",
   "execution_count": 4,
   "metadata": {},
   "outputs": [
    {
     "name": "stdout",
     "output_type": "stream",
     "text": [
      "7\n",
      "2\n"
     ]
    }
   ],
   "source": [
    "tree = make_tree(2)\n",
    "print(count(tree))\n",
    "print(height(tree))\n"
   ]
  }
 ],
 "metadata": {
  "kernelspec": {
   "display_name": "venv",
   "language": "python",
   "name": "python3"
  },
  "language_info": {
   "codemirror_mode": {
    "name": "ipython",
    "version": 3
   },
   "file_extension": ".py",
   "mimetype": "text/x-python",
   "name": "python",
   "nbconvert_exporter": "python",
   "pygments_lexer": "ipython3",
   "version": "3.12.0"
  }
 },
 "nbformat": 4,
 "nbformat_minor": 2
}
