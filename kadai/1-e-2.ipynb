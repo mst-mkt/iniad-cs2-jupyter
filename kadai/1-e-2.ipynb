{
 "cells": [
  {
   "cell_type": "markdown",
   "metadata": {},
   "source": [
    "# 課題 2\n",
    "\n",
    "## じゃんけんゲームを作ろう\n"
   ]
  },
  {
   "cell_type": "code",
   "execution_count": 1,
   "metadata": {},
   "outputs": [],
   "source": [
    "import random as r\n",
    "from typing import Optional\n"
   ]
  },
  {
   "cell_type": "code",
   "execution_count": 2,
   "metadata": {},
   "outputs": [],
   "source": [
    "def janken() -> Optional[str]:\n",
    "    message = \"あなたは？(0:グー, 1:チョキ, 2:パー):\"\n",
    "    try:\n",
    "        my_hand = int(input(message))\n",
    "        if (my_hand < 0) or (my_hand > 2):\n",
    "            print(\"不正な値です\")\n",
    "        else:\n",
    "            computer_hand = r.randint(0, 2)\n",
    "            result = (my_hand - computer_hand) % 3\n",
    "            results = [\"あいこ\", \"あなたの負け\", \"あなたの勝ち\"]\n",
    "            return results[result]\n",
    "    except ValueError:\n",
    "        print(\"不正な値です\")\n"
   ]
  },
  {
   "cell_type": "code",
   "execution_count": 3,
   "metadata": {},
   "outputs": [
    {
     "name": "stdout",
     "output_type": "stream",
     "text": [
      "あなたの負け\n"
     ]
    }
   ],
   "source": [
    "print(janken())\n"
   ]
  },
  {
   "cell_type": "code",
   "execution_count": 4,
   "metadata": {},
   "outputs": [
    {
     "name": "stdout",
     "output_type": "stream",
     "text": [
      "対戦結果: 勝ち 3, 負け 2, あいこ 0, 勝率 0.6\n"
     ]
    }
   ],
   "source": [
    "win_count = 0\n",
    "for _ in range(5):\n",
    "    result = janken()\n",
    "    if result == \"あなたの勝ち\":\n",
    "        win_count += 1\n",
    "\n",
    "rate = win_count / 5\n",
    "print(\"対戦結果: 勝ち {}, 負け {}, あいこ {}, 勝率 {}\".format(win_count, 5 - win_count, 0, rate))\n"
   ]
  }
 ],
 "metadata": {
  "kernelspec": {
   "display_name": "venv",
   "language": "python",
   "name": "python3"
  },
  "language_info": {
   "codemirror_mode": {
    "name": "ipython",
    "version": 3
   },
   "file_extension": ".py",
   "mimetype": "text/x-python",
   "name": "python",
   "nbconvert_exporter": "python",
   "pygments_lexer": "ipython3",
   "version": "3.12.0"
  },
  "orig_nbformat": 4
 },
 "nbformat": 4,
 "nbformat_minor": 2
}
