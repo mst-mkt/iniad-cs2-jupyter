{
 "cells": [
  {
   "cell_type": "code",
   "execution_count": 1,
   "metadata": {},
   "outputs": [],
   "source": [
    "import networkx as nx\n"
   ]
  },
  {
   "cell_type": "code",
   "execution_count": 2,
   "metadata": {},
   "outputs": [],
   "source": [
    "graph = nx.DiGraph()\n",
    "\n",
    "map(graph.add_node, range(7))\n",
    "\n",
    "graph.add_edge(0, 1, weight=2)\n",
    "graph.add_edge(0, 2, weight=8)\n",
    "graph.add_edge(0, 3, weight=4)\n",
    "graph.add_edge(1, 4, weight=3)\n",
    "graph.add_edge(2, 4, weight=2)\n",
    "graph.add_edge(2, 5, weight=3)\n",
    "graph.add_edge(3, 5, weight=8)\n",
    "graph.add_edge(4, 6, weight=9)\n",
    "graph.add_edge(5, 6, weight=3)\n"
   ]
  },
  {
   "cell_type": "code",
   "execution_count": 3,
   "metadata": {},
   "outputs": [
    {
     "name": "stdout",
     "output_type": "stream",
     "text": [
      "0 -> 0: 0\n",
      "0 -> 1: 2\n",
      "0 -> 2: 8\n",
      "0 -> 3: 4\n",
      "0 -> 4: 5\n",
      "0 -> 5: 11\n",
      "0 -> 6: 14\n"
     ]
    }
   ],
   "source": [
    "for i in range(7):\n",
    "    print(f\"0 -> {i}:\", end=\" \")\n",
    "    print(nx.dijkstra_path_length(graph, 0, i))\n"
   ]
  }
 ],
 "metadata": {
  "kernelspec": {
   "display_name": "venv",
   "language": "python",
   "name": "python3"
  },
  "language_info": {
   "codemirror_mode": {
    "name": "ipython",
    "version": 3
   },
   "file_extension": ".py",
   "mimetype": "text/x-python",
   "name": "python",
   "nbconvert_exporter": "python",
   "pygments_lexer": "ipython3",
   "version": "3.12.0"
  }
 },
 "nbformat": 4,
 "nbformat_minor": 2
}
