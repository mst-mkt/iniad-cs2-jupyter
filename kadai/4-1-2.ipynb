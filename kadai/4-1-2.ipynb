{
 "cells": [
  {
   "cell_type": "code",
   "execution_count": 1,
   "metadata": {},
   "outputs": [],
   "source": [
    "class Node:\n",
    "    def __init__(self, value):\n",
    "        self.value = value\n",
    "        self.next = None\n",
    "\n",
    "    def __str__(self):\n",
    "        return str(self.value)"
   ]
  },
  {
   "cell_type": "code",
   "execution_count": 2,
   "metadata": {},
   "outputs": [],
   "source": [
    "def print_list(top: Node) -> None:\n",
    "    print('<', end='')\n",
    "    node = top\n",
    "    while node is not None:\n",
    "        print(node, end=', ')\n",
    "        node = node.next\n",
    "    print('>')\n",
    "\n",
    "def insert(prev: Node, x: int) -> Node:\n",
    "    new_node = Node(x)\n",
    "    new_node.next = prev.next\n",
    "    prev.next = new_node\n",
    "    return new_node\n",
    "\n",
    "def pop(prev: Node) -> Node:\n",
    "    result = prev.next\n",
    "    prev.next = result.next\n",
    "    result.next = None\n",
    "    return result\n",
    "\n",
    "def create_list(n: int) -> Node:\n",
    "    top = Node(0)\n",
    "    for i in range(1, n):\n",
    "        insert(top, n - i)\n",
    "    return top"
   ]
  },
  {
   "cell_type": "code",
   "execution_count": 3,
   "metadata": {},
   "outputs": [],
   "source": [
    "def index(top: Node, x: int) -> Node | None:\n",
    "    if (x == top.value):\n",
    "        return top\n",
    "    elif (top.next is None):\n",
    "        return None\n",
    "    else:\n",
    "        return index(top.next, x)"
   ]
  },
  {
   "cell_type": "code",
   "execution_count": 4,
   "metadata": {},
   "outputs": [
    {
     "name": "stdout",
     "output_type": "stream",
     "text": [
      "<0, 1, 2, 3, 4, 5, 6, 7, 8, 9, >\n",
      "<0, 1, 2, 100, 3, 4, 5, 6, 7, 8, 9, >\n",
      "<0, 1, 2, 100, 3, 4, 5, 7, 8, 9, >\n"
     ]
    }
   ],
   "source": [
    "lst = create_list(10)\n",
    "print_list(lst)\n",
    "\n",
    "found = index(lst, 2)\n",
    "insert(found, 100)\n",
    "print_list(lst)\n",
    "\n",
    "found = index(lst, 5)\n",
    "pop(found)\n",
    "print_list(lst)"
   ]
  }
 ],
 "metadata": {
  "kernelspec": {
   "display_name": "venv",
   "language": "python",
   "name": "python3"
  },
  "language_info": {
   "codemirror_mode": {
    "name": "ipython",
    "version": 3
   },
   "file_extension": ".py",
   "mimetype": "text/x-python",
   "name": "python",
   "nbconvert_exporter": "python",
   "pygments_lexer": "ipython3",
   "version": "3.12.0"
  },
  "orig_nbformat": 4
 },
 "nbformat": 4,
 "nbformat_minor": 2
}
