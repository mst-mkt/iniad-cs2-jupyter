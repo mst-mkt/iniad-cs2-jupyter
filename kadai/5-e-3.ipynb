{
 "cells": [
  {
   "cell_type": "markdown",
   "metadata": {},
   "source": [
    "### 課題 3 テーマパークシミュレーション (訪問順序固定)\n"
   ]
  },
  {
   "cell_type": "code",
   "execution_count": 1,
   "metadata": {},
   "outputs": [],
   "source": [
    "from collections import deque\n"
   ]
  },
  {
   "cell_type": "code",
   "execution_count": 2,
   "metadata": {},
   "outputs": [],
   "source": [
    "class Visitor:\n",
    "    def __init__(self, name: str, lst: list[int]) -> None:\n",
    "        self.name = name\n",
    "        self.attr = deque(lst)\n"
   ]
  },
  {
   "cell_type": "code",
   "execution_count": 3,
   "metadata": {},
   "outputs": [],
   "source": [
    "attractions: list[deque[Visitor]] = [deque(), deque(), deque()]\n",
    "next_pool: deque[Visitor] = deque()\n",
    "goal: deque[Visitor] = deque()\n"
   ]
  },
  {
   "cell_type": "code",
   "execution_count": 4,
   "metadata": {},
   "outputs": [
    {
     "name": "stdout",
     "output_type": "stream",
     "text": [
      "A さんのアトラクション訪問順序 deque([0, 1, 2])\n",
      "B さんのアトラクション訪問順序 deque([1, 2, 0])\n",
      "C さんのアトラクション訪問順序 deque([2, 0, 1])\n",
      "\n"
     ]
    }
   ],
   "source": [
    "a = Visitor(\"A\", [0, 1, 2])\n",
    "b = Visitor(\"B\", [1, 2, 0])\n",
    "c = Visitor(\"C\", [2, 0, 1])\n",
    "\n",
    "num_of_visitors = 3\n",
    "\n",
    "for visitor in [a, b, c]:\n",
    "    print(visitor.name, \"さんのアトラクション訪問順序\", visitor.attr)\n",
    "    next_pool.append(visitor)\n",
    "\n",
    "print(\"\")\n"
   ]
  },
  {
   "cell_type": "code",
   "execution_count": 5,
   "metadata": {},
   "outputs": [],
   "source": [
    "def next_action(visitor: Visitor):\n",
    "    if len(visitor.attr) > 0:\n",
    "        i = visitor.attr.popleft()\n",
    "        print(visitor.name, \"さんがアトラクション\", i, \"に並びました。\")\n",
    "        attractions[i].append(visitor)\n",
    "    else:\n",
    "        print(visitor.name, \"さんがアトラクションを回り終えました。\")\n",
    "        goal.append(visitor)\n"
   ]
  },
  {
   "cell_type": "code",
   "execution_count": 6,
   "metadata": {},
   "outputs": [
    {
     "name": "stdout",
     "output_type": "stream",
     "text": [
      "t = 0\n",
      "A さんがアトラクション 0 に並びました。\n",
      "B さんがアトラクション 1 に並びました。\n",
      "C さんがアトラクション 2 に並びました。\n",
      "\n",
      "t = 1\n",
      "A さんがアトラクション 1 に並びました。\n",
      "B さんがアトラクション 2 に並びました。\n",
      "C さんがアトラクション 0 に並びました。\n",
      "\n",
      "t = 2\n",
      "C さんがアトラクション 1 に並びました。\n",
      "A さんがアトラクション 2 に並びました。\n",
      "B さんがアトラクション 0 に並びました。\n",
      "\n",
      "t = 3\n",
      "B さんがアトラクションを回り終えました。\n",
      "C さんがアトラクションを回り終えました。\n",
      "A さんがアトラクションを回り終えました。\n",
      "\n",
      "終了時刻: 3\n"
     ]
    }
   ],
   "source": [
    "for t in range(100):\n",
    "    print(\"t =\", t)\n",
    "\n",
    "    for i in range(len(attractions)):\n",
    "        if len(attractions[i]) > 0:\n",
    "            v = attractions[i].popleft()\n",
    "            next_pool.append(v)\n",
    "\n",
    "    while len(next_pool) > 0:\n",
    "        v = next_pool.popleft()\n",
    "        next_action(v)\n",
    "\n",
    "    print(\"\")\n",
    "\n",
    "    if len(goal) >= num_of_visitors:\n",
    "        print(\"終了時刻:\", t)\n",
    "        break\n"
   ]
  }
 ],
 "metadata": {
  "kernelspec": {
   "display_name": "venv",
   "language": "python",
   "name": "python3"
  },
  "language_info": {
   "codemirror_mode": {
    "name": "ipython",
    "version": 3
   },
   "file_extension": ".py",
   "mimetype": "text/x-python",
   "name": "python",
   "nbconvert_exporter": "python",
   "pygments_lexer": "ipython3",
   "version": "3.12.0"
  }
 },
 "nbformat": 4,
 "nbformat_minor": 2
}
