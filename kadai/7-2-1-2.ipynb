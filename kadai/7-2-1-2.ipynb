{
 "cells": [
  {
   "cell_type": "code",
   "execution_count": 1,
   "metadata": {},
   "outputs": [],
   "source": [
    "from typing import Optional\n"
   ]
  },
  {
   "cell_type": "code",
   "execution_count": 2,
   "metadata": {},
   "outputs": [],
   "source": [
    "def h(x: str) -> int:\n",
    "    return hash(x) % 10\n",
    "\n",
    "\n",
    "def add_table(table: list[Optional[str]], x: str) -> None:\n",
    "    hash_value = h(x)\n",
    "    if table[hash_value] is None:\n",
    "        table[hash_value] = x\n"
   ]
  },
  {
   "cell_type": "code",
   "execution_count": 3,
   "metadata": {},
   "outputs": [],
   "source": [
    "table: list[Optional[str]] = [None] * 10\n",
    "arias = [\n",
    "    \"Akabane\",\n",
    "    \"Jujo\",\n",
    "    \"Itabashi\",\n",
    "    \"Ikebukuro\",\n",
    "    \"Shinjuku\",\n",
    "    \"Shibuya\",\n",
    "    \"Ebisu\",\n",
    "    \"Osaki\",\n",
    "]\n",
    "\n",
    "for aria in arias:\n",
    "    add_table(table, aria)\n"
   ]
  },
  {
   "cell_type": "code",
   "execution_count": 4,
   "metadata": {},
   "outputs": [
    {
     "name": "stdout",
     "output_type": "stream",
     "text": [
      "None: 0, 4, 7\n",
      "Collision: Shinjuku\n"
     ]
    }
   ],
   "source": [
    "print(\n",
    "    \"None:\", \", \".join(map(str, filter(lambda i: table[i] is None, range(len(table)))))\n",
    ")\n",
    "print(\"Collision:\", \", \".join(map(str, filter(lambda x: x not in table, arias))))\n"
   ]
  }
 ],
 "metadata": {
  "kernelspec": {
   "display_name": "venv",
   "language": "python",
   "name": "python3"
  },
  "language_info": {
   "codemirror_mode": {
    "name": "ipython",
    "version": 3
   },
   "file_extension": ".py",
   "mimetype": "text/x-python",
   "name": "python",
   "nbconvert_exporter": "python",
   "pygments_lexer": "ipython3",
   "version": "3.12.0"
  }
 },
 "nbformat": 4,
 "nbformat_minor": 2
}
