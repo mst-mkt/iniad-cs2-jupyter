{
 "cells": [
  {
   "cell_type": "code",
   "execution_count": 1,
   "metadata": {},
   "outputs": [],
   "source": [
    "import matplotlib.pyplot as plt\n",
    "import networkx as nx\n",
    "from collections import deque\n"
   ]
  },
  {
   "cell_type": "code",
   "execution_count": 2,
   "metadata": {},
   "outputs": [],
   "source": [
    "graph = nx.DiGraph()\n",
    "\n",
    "for node in [\"S\", \"1\", \"2\", \"3\", \"4\", \"5\"]:\n",
    "    graph.add_node(node)\n",
    "\n",
    "graph.add_edge(\"S\", \"1\", weight=4)\n",
    "graph.add_edge(\"S\", \"2\", weight=8)\n",
    "graph.add_edge(\"S\", \"3\", weight=9)\n",
    "graph.add_edge(\"1\", \"2\", weight=1)\n",
    "graph.add_edge(\"1\", \"4\", weight=9)\n",
    "graph.add_edge(\"2\", \"3\", weight=2)\n",
    "graph.add_edge(\"2\", \"4\", weight=7)\n",
    "graph.add_edge(\"3\", \"5\", weight=3)\n",
    "graph.add_edge(\"5\", \"2\", weight=3)\n",
    "graph.add_edge(\"5\", \"4\", weight=1)\n"
   ]
  },
  {
   "cell_type": "code",
   "execution_count": 3,
   "metadata": {},
   "outputs": [],
   "source": [
    "def dijkstra_distance(graph: nx.DiGraph, start: str, goal: str) -> int:\n",
    "    distance: dict[str, float] = {}\n",
    "    prev: dict[str, str] = {}\n",
    "    queue: list[str] = []\n",
    "\n",
    "    for node in graph.nodes:\n",
    "        if node == start:\n",
    "            distance[node] = 0\n",
    "        else:\n",
    "            distance[node] = float(\"inf\")\n",
    "        queue.append(node)\n",
    "\n",
    "    while len(queue) > 0:\n",
    "        u = min(queue, key=lambda x: distance[x])\n",
    "        queue.remove(u)\n",
    "\n",
    "        for v in graph.adj[u]:\n",
    "            alt = distance[u] + graph.edges[u, v][\"weight\"]\n",
    "            if alt < distance[v]:\n",
    "                distance[v] = alt\n",
    "                prev[v] = u\n",
    "\n",
    "    return int(distance[goal])\n"
   ]
  },
  {
   "cell_type": "code",
   "execution_count": 4,
   "metadata": {},
   "outputs": [
    {
     "name": "stdout",
     "output_type": "stream",
     "text": [
      "1: 4\n",
      "2: 5\n",
      "3: 7\n",
      "4: 11\n",
      "5: 10\n"
     ]
    }
   ],
   "source": [
    "for i in range(1, 6):\n",
    "    distance = dijkstra_distance(graph, \"S\", str(i))\n",
    "    print(f\"{i}: {distance}\")\n"
   ]
  }
 ],
 "metadata": {
  "kernelspec": {
   "display_name": "venv",
   "language": "python",
   "name": "python3"
  },
  "language_info": {
   "codemirror_mode": {
    "name": "ipython",
    "version": 3
   },
   "file_extension": ".py",
   "mimetype": "text/x-python",
   "name": "python",
   "nbconvert_exporter": "python",
   "pygments_lexer": "ipython3",
   "version": "3.12.0"
  }
 },
 "nbformat": 4,
 "nbformat_minor": 2
}
