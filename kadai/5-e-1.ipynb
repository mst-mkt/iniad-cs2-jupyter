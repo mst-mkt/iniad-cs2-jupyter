{
 "cells": [
  {
   "cell_type": "markdown",
   "metadata": {},
   "source": [
    "### 課題 1 レジ待ち行列シミュレーション(N 人バージョン)\n"
   ]
  },
  {
   "cell_type": "code",
   "execution_count": 1,
   "metadata": {},
   "outputs": [],
   "source": [
    "from collections import deque\n"
   ]
  },
  {
   "cell_type": "code",
   "execution_count": 2,
   "metadata": {},
   "outputs": [],
   "source": [
    "cashier: deque[str] = deque()\n",
    "n = 10\n",
    "m = 6\n"
   ]
  },
  {
   "cell_type": "code",
   "execution_count": 3,
   "metadata": {},
   "outputs": [
    {
     "name": "stdout",
     "output_type": "stream",
     "text": [
      "customer-id:0 さんがレジに並びました\n",
      "customer-id:1 さんがレジに並びました\n",
      "customer-id:2 さんがレジに並びました\n",
      "customer-id:3 さんがレジに並びました\n",
      "customer-id:4 さんがレジに並びました\n",
      "customer-id:5 さんがレジに並びました\n",
      "customer-id:6 さんがレジに並びました\n",
      "customer-id:7 さんがレジに並びました\n",
      "customer-id:8 さんがレジに並びました\n",
      "customer-id:9 さんがレジに並びました\n",
      "customer-id:0 さんが会計を済ませました\n",
      "customer-id:1 さんが会計を済ませました\n",
      "customer-id:2 さんが会計を済ませました\n",
      "customer-id:3 さんが会計を済ませました\n",
      "customer-id:4 さんが会計を済ませました\n",
      "customer-id:5 さんが会計を済ませました\n",
      "レジに並んでいる人数: 4\n"
     ]
    }
   ],
   "source": [
    "for i in range(n):\n",
    "    customer = \"customer-id:{}\".format(i)\n",
    "    print(customer, \"さんがレジに並びました\")\n",
    "    cashier.append(customer)\n",
    "\n",
    "for i in range(m):\n",
    "    if len(cashier) <= 0:\n",
    "        break\n",
    "    customer = cashier.popleft()\n",
    "    print(customer, \"さんが会計を済ませました\")\n",
    "\n",
    "print(\"レジに並んでいる人数:\", len(cashier))\n"
   ]
  }
 ],
 "metadata": {
  "kernelspec": {
   "display_name": "venv",
   "language": "python",
   "name": "python3"
  },
  "language_info": {
   "codemirror_mode": {
    "name": "ipython",
    "version": 3
   },
   "file_extension": ".py",
   "mimetype": "text/x-python",
   "name": "python",
   "nbconvert_exporter": "python",
   "pygments_lexer": "ipython3",
   "version": "3.12.0"
  }
 },
 "nbformat": 4,
 "nbformat_minor": 2
}
