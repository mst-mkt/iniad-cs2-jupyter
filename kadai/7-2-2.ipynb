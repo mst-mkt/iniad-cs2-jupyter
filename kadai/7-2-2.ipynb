{
 "cells": [
  {
   "cell_type": "code",
   "execution_count": 1,
   "metadata": {},
   "outputs": [],
   "source": [
    "from typing import Optional\n",
    "import random as r\n"
   ]
  },
  {
   "cell_type": "code",
   "execution_count": 2,
   "metadata": {},
   "outputs": [],
   "source": [
    "class Node:\n",
    "    def __init__(self: \"Node\", key: int, value: str) -> None:\n",
    "        self.key = key\n",
    "        self.value = value\n",
    "        self.next: Optional[Node] = None\n"
   ]
  },
  {
   "cell_type": "code",
   "execution_count": 3,
   "metadata": {},
   "outputs": [],
   "source": [
    "def h(key: int) -> int:\n",
    "    return key % 10\n",
    "\n",
    "\n",
    "def put(table: list[Optional[Node]], key: int, value: str) -> None:\n",
    "    hash_value = h(key)\n",
    "    node = table[hash_value]\n",
    "\n",
    "    while node is not None:\n",
    "        if node.key == key:\n",
    "            node.value = value\n",
    "            return\n",
    "        node = node.next\n",
    "\n",
    "    first_node = table[hash_value]\n",
    "    new_node = Node(key, value)\n",
    "    new_node.next = first_node\n",
    "    table[hash_value] = new_node\n",
    "\n",
    "\n",
    "def get(table: list[Optional[Node]], key: int) -> Optional[str]:\n",
    "    hash_value = h(key)\n",
    "    node = table[hash_value]\n",
    "\n",
    "    while node is not None:\n",
    "        if node.key == key:\n",
    "            return node.value\n",
    "        node = node.next\n",
    "\n",
    "    return None\n",
    "\n",
    "\n",
    "def make_dict(n: int, size: int) -> list[Optional[Node]]:\n",
    "    result: list[Optional[Node]] = [None] * size\n",
    "    keys = r.sample(range(1_000_000), n)\n",
    "    value = r.choices(\"abcdefghijklmnopqrstuvwxyz\", k=n)\n",
    "    for key, value in zip(keys, value):\n",
    "        put(result, key, value)\n",
    "    return result\n"
   ]
  },
  {
   "cell_type": "code",
   "execution_count": 4,
   "metadata": {},
   "outputs": [
    {
     "name": "stdout",
     "output_type": "stream",
     "text": [
      "N: 100\n",
      "size: 1000  "
     ]
    },
    {
     "name": "stdout",
     "output_type": "stream",
     "text": [
      "6.87 µs ± 399 ns per loop (mean ± std. dev. of 7 runs, 100,000 loops each)\n",
      "size: 2000  12.5 µs ± 161 ns per loop (mean ± std. dev. of 7 runs, 100,000 loops each)\n",
      "size: 3000  19.5 µs ± 432 ns per loop (mean ± std. dev. of 7 runs, 100,000 loops each)\n",
      "size: 4000  26.6 µs ± 1.34 µs per loop (mean ± std. dev. of 7 runs, 10,000 loops each)\n",
      "size: 5000  35.4 µs ± 863 ns per loop (mean ± std. dev. of 7 runs, 10,000 loops each)\n",
      "size: 6000  44.6 µs ± 1.56 µs per loop (mean ± std. dev. of 7 runs, 10,000 loops each)\n",
      "size: 7000  52.9 µs ± 1.28 µs per loop (mean ± std. dev. of 7 runs, 10,000 loops each)\n",
      "size: 8000  62 µs ± 1.48 µs per loop (mean ± std. dev. of 7 runs, 10,000 loops each)\n",
      "size: 9000  73.7 µs ± 2.1 µs per loop (mean ± std. dev. of 7 runs, 10,000 loops each)\n",
      "size: 10000  83.6 µs ± 1.26 µs per loop (mean ± std. dev. of 7 runs, 10,000 loops each)\n",
      "\n",
      "N: 10000\n",
      "size: 1000  7.66 µs ± 241 ns per loop (mean ± std. dev. of 7 runs, 100,000 loops each)\n",
      "size: 2000  13.5 µs ± 234 ns per loop (mean ± std. dev. of 7 runs, 100,000 loops each)\n",
      "size: 3000  19.4 µs ± 764 ns per loop (mean ± std. dev. of 7 runs, 10,000 loops each)\n",
      "size: 4000  26.3 µs ± 739 ns per loop (mean ± std. dev. of 7 runs, 10,000 loops each)\n",
      "size: 5000  38.3 µs ± 1.41 µs per loop (mean ± std. dev. of 7 runs, 10,000 loops each)\n",
      "size: 6000  50.5 µs ± 1.81 µs per loop (mean ± std. dev. of 7 runs, 10,000 loops each)\n",
      "size: 7000  53.3 µs ± 823 ns per loop (mean ± std. dev. of 7 runs, 10,000 loops each)\n",
      "size: 8000  68.4 µs ± 1.28 µs per loop (mean ± std. dev. of 7 runs, 10,000 loops each)\n",
      "size: 9000  78.6 µs ± 2.7 µs per loop (mean ± std. dev. of 7 runs, 10,000 loops each)\n",
      "size: 10000  85.4 µs ± 1.39 µs per loop (mean ± std. dev. of 7 runs, 10,000 loops each)\n",
      "\n"
     ]
    }
   ],
   "source": [
    "ns = [100, 10_000]\n",
    "\n",
    "for n in ns:\n",
    "    print(f\"N: {n}\")\n",
    "    for i in range(1_000, 10_001, 1_000):\n",
    "        print(f\"size: {i}\", end=\"  \")\n",
    "        target = make_dict(i, n)\n",
    "        %timeit get(target, 1_000_000)\n",
    "    print()\n"
   ]
  }
 ],
 "metadata": {
  "kernelspec": {
   "display_name": "venv",
   "language": "python",
   "name": "python3"
  },
  "language_info": {
   "codemirror_mode": {
    "name": "ipython",
    "version": 3
   },
   "file_extension": ".py",
   "mimetype": "text/x-python",
   "name": "python",
   "nbconvert_exporter": "python",
   "pygments_lexer": "ipython3",
   "version": "3.12.0"
  }
 },
 "nbformat": 4,
 "nbformat_minor": 2
}
