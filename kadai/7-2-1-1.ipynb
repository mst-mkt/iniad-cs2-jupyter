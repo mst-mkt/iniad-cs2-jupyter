{
 "cells": [
  {
   "cell_type": "code",
   "execution_count": 1,
   "metadata": {},
   "outputs": [],
   "source": [
    "from typing import Optional\n"
   ]
  },
  {
   "cell_type": "code",
   "execution_count": 2,
   "metadata": {},
   "outputs": [],
   "source": [
    "def hash(x: int) -> int:\n",
    "    return x % 10\n",
    "\n",
    "\n",
    "def add_table(table: list[Optional[int]], x: int) -> None:\n",
    "    hash_value = hash(x)\n",
    "    if table[hash_value] is None:\n",
    "        table[hash_value] = x\n"
   ]
  },
  {
   "cell_type": "code",
   "execution_count": 3,
   "metadata": {},
   "outputs": [],
   "source": [
    "table: list[Optional[int]] = [None] * 10\n",
    "numbers = [13, 14, 21, 46, 66, 67, 72, 77, 94, 95]\n",
    "\n",
    "for number in numbers:\n",
    "    add_table(table, number)\n"
   ]
  },
  {
   "cell_type": "code",
   "execution_count": 4,
   "metadata": {},
   "outputs": [
    {
     "name": "stdout",
     "output_type": "stream",
     "text": [
      "None: 0, 8, 9\n",
      "Collision: 66, 77, 94\n"
     ]
    }
   ],
   "source": [
    "print(\n",
    "    \"None:\", \", \".join(map(str, filter(lambda i: table[i] is None, range(len(table)))))\n",
    ")\n",
    "print(\"Collision:\", \", \".join(map(str, filter(lambda x: x not in table, numbers))))\n"
   ]
  }
 ],
 "metadata": {
  "kernelspec": {
   "display_name": "venv",
   "language": "python",
   "name": "python3"
  },
  "language_info": {
   "codemirror_mode": {
    "name": "ipython",
    "version": 3
   },
   "file_extension": ".py",
   "mimetype": "text/x-python",
   "name": "python",
   "nbconvert_exporter": "python",
   "pygments_lexer": "ipython3",
   "version": "3.12.0"
  }
 },
 "nbformat": 4,
 "nbformat_minor": 2
}
