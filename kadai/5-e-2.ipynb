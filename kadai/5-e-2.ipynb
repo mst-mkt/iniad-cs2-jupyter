{
 "cells": [
  {
   "cell_type": "markdown",
   "metadata": {},
   "source": [
    "### 課題 2 テーマパークシミュレーション (アトラクション数: 1)\n"
   ]
  },
  {
   "cell_type": "code",
   "execution_count": 1,
   "metadata": {},
   "outputs": [],
   "source": [
    "from collections import deque\n"
   ]
  },
  {
   "cell_type": "code",
   "execution_count": 2,
   "metadata": {},
   "outputs": [],
   "source": [
    "attraction: deque[str] = deque()\n",
    "next_pool: deque[str] = deque()\n",
    "goal: deque[str] = deque()\n",
    "\n",
    "num_of_visitors = 3\n",
    "\n",
    "a = \"A\"\n",
    "b = \"B\"\n",
    "c = \"C\"\n",
    "\n",
    "for visitor in [a, b, c]:\n",
    "    next_pool.append(visitor)\n"
   ]
  },
  {
   "cell_type": "code",
   "execution_count": 3,
   "metadata": {},
   "outputs": [],
   "source": [
    "def next_actions(visitor: str) -> None:\n",
    "    print(visitor, \"さんがアトラクションに並びました。\")\n",
    "    attraction.append(visitor)\n"
   ]
  },
  {
   "cell_type": "code",
   "execution_count": 4,
   "metadata": {},
   "outputs": [
    {
     "name": "stdout",
     "output_type": "stream",
     "text": [
      "t = 0\n",
      "A さんがアトラクションに並びました。\n",
      "B さんがアトラクションに並びました。\n",
      "C さんがアトラクションに並びました。\n",
      "\n",
      "t = 1\n",
      "A さんがアトラクションを回り終えました。\n",
      "\n",
      "t = 2\n",
      "B さんがアトラクションを回り終えました。\n",
      "\n",
      "t = 3\n",
      "C さんがアトラクションを回り終えました。\n",
      "\n",
      "終了時刻: 3\n"
     ]
    }
   ],
   "source": [
    "for t in range(100):\n",
    "    print(\"t =\", t)\n",
    "\n",
    "    if len(attraction) > 0:\n",
    "        v = attraction.popleft()\n",
    "        print(v, \"さんがアトラクションを回り終えました。\")\n",
    "        goal.append(v)\n",
    "\n",
    "    while len(next_pool) > 0:\n",
    "        v = next_pool.popleft()\n",
    "        next_actions(v)\n",
    "\n",
    "    print(\"\")\n",
    "    if len(goal) >= num_of_visitors:\n",
    "        print(\"終了時刻:\", t)\n",
    "        break\n"
   ]
  }
 ],
 "metadata": {
  "kernelspec": {
   "display_name": "venv",
   "language": "python",
   "name": "python3"
  },
  "language_info": {
   "codemirror_mode": {
    "name": "ipython",
    "version": 3
   },
   "file_extension": ".py",
   "mimetype": "text/x-python",
   "name": "python",
   "nbconvert_exporter": "python",
   "pygments_lexer": "ipython3",
   "version": "3.12.0"
  }
 },
 "nbformat": 4,
 "nbformat_minor": 2
}
