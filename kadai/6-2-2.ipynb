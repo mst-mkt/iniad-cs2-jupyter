{
 "cells": [
  {
   "cell_type": "code",
   "execution_count": 1,
   "metadata": {},
   "outputs": [],
   "source": [
    "import networkx as nx\n"
   ]
  },
  {
   "cell_type": "code",
   "execution_count": 4,
   "metadata": {},
   "outputs": [
    {
     "name": "stdout",
     "output_type": "stream",
     "text": [
      "1, 2, 3, 6, 12, 24, 25, 50, 100\n"
     ]
    }
   ],
   "source": [
    "graph = nx.DiGraph()\n",
    "\n",
    "for i in range(1, 101):\n",
    "    graph.add_node(i)\n",
    "    if i != 100:\n",
    "        graph.add_edge(i, i + 1)\n",
    "    if i != 1:\n",
    "        graph.add_edge(i, i - 1)\n",
    "    if i <= 50:\n",
    "        graph.add_edge(i, i * 2)\n",
    "    if i % 3 == 0:\n",
    "        graph.add_edge(i, i // 3)\n"
   ]
  },
  {
   "cell_type": "code",
   "execution_count": 5,
   "metadata": {},
   "outputs": [
    {
     "name": "stdout",
     "output_type": "stream",
     "text": [
      "3, 6, 7\n",
      "33, 11, 10, 20, 19, 38, 76, 77\n"
     ]
    }
   ],
   "source": [
    "print(\", \".join(map(str, nx.shortest_path(graph, 3, 7))))\n",
    "print(\", \".join(map(str, nx.shortest_path(graph, 33, 77))))\n"
   ]
  }
 ],
 "metadata": {
  "kernelspec": {
   "display_name": "venv",
   "language": "python",
   "name": "python3"
  },
  "language_info": {
   "codemirror_mode": {
    "name": "ipython",
    "version": 3
   },
   "file_extension": ".py",
   "mimetype": "text/x-python",
   "name": "python",
   "nbconvert_exporter": "python",
   "pygments_lexer": "ipython3",
   "version": "3.12.0"
  }
 },
 "nbformat": 4,
 "nbformat_minor": 2
}
