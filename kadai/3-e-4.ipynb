{
 "cells": [
  {
   "cell_type": "code",
   "execution_count": 1,
   "metadata": {},
   "outputs": [],
   "source": [
    "import turtle\n"
   ]
  },
  {
   "cell_type": "code",
   "execution_count": 2,
   "metadata": {},
   "outputs": [],
   "source": [
    "def koch(length: float, level: int) -> None:\n",
    "    turtle.hideturtle()\n",
    "    turtle.speed(0)\n",
    "    if level == 0:\n",
    "        turtle.forward(length)\n",
    "    else:\n",
    "        koch(length / 3, level - 1)\n",
    "        turtle.left(60)\n",
    "        koch(length / 3, level - 1)\n",
    "        turtle.right(120)\n",
    "        koch(length / 3, level - 1)\n",
    "        turtle.left(60)\n",
    "        koch(length / 3, level - 1)\n"
   ]
  }
 ],
 "metadata": {
  "kernelspec": {
   "display_name": "venv",
   "language": "python",
   "name": "python3"
  },
  "language_info": {
   "codemirror_mode": {
    "name": "ipython",
    "version": 3
   },
   "file_extension": ".py",
   "mimetype": "text/x-python",
   "name": "python",
   "nbconvert_exporter": "python",
   "pygments_lexer": "ipython3",
   "version": "3.12.0"
  },
  "orig_nbformat": 4
 },
 "nbformat": 4,
 "nbformat_minor": 2
}
