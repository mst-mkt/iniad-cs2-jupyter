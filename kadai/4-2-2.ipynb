{
 "cells": [
  {
   "cell_type": "code",
   "execution_count": 1,
   "metadata": {},
   "outputs": [],
   "source": [
    "from collections import deque\n"
   ]
  },
  {
   "cell_type": "code",
   "execution_count": 2,
   "metadata": {},
   "outputs": [],
   "source": [
    "def double_ended_queue(deque: deque[int], x: int) -> deque[int]:\n",
    "    if x % 5 == 0:\n",
    "        deque.pop()\n",
    "    elif x % 3 == 0:\n",
    "        deque.popleft()\n",
    "    elif x % 2 == 0:\n",
    "        deque.append(x)\n",
    "    else:\n",
    "        deque.appendleft(x)\n",
    "    return deque\n"
   ]
  },
  {
   "cell_type": "code",
   "execution_count": 3,
   "metadata": {},
   "outputs": [
    {
     "name": "stdout",
     "output_type": "stream",
     "text": [
      "121, 119, 26, 32, 56, 62, 86, 92, 116, 122\n"
     ]
    }
   ],
   "source": [
    "deq: deque[int] = deque([])\n",
    "i = 0\n",
    "\n",
    "while len(deq) < 10:\n",
    "    i += 1\n",
    "    deq = double_ended_queue(deq, i)\n",
    "\n",
    "print(\", \".join(map(str, deq)))\n"
   ]
  }
 ],
 "metadata": {
  "kernelspec": {
   "display_name": "venv",
   "language": "python",
   "name": "python3"
  },
  "language_info": {
   "codemirror_mode": {
    "name": "ipython",
    "version": 3
   },
   "file_extension": ".py",
   "mimetype": "text/x-python",
   "name": "python",
   "nbconvert_exporter": "python",
   "pygments_lexer": "ipython3",
   "version": "3.12.0"
  },
  "orig_nbformat": 4
 },
 "nbformat": 4,
 "nbformat_minor": 2
}
