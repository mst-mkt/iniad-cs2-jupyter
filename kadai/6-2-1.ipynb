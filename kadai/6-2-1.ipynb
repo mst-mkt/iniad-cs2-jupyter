{
 "cells": [
  {
   "cell_type": "code",
   "execution_count": 1,
   "metadata": {},
   "outputs": [],
   "source": [
    "from heapq import heapify, heappop\n",
    "from math import inf\n",
    "from typing import Optional\n"
   ]
  },
  {
   "cell_type": "code",
   "execution_count": 2,
   "metadata": {},
   "outputs": [],
   "source": [
    "class Node:\n",
    "    def __init__(self: \"Node\", value: str | int, weight: float = inf) -> None:\n",
    "        self.value = value\n",
    "        self.is_traversed = False\n",
    "        self.weight: tuple[float, Optional[Node]] = weight, None\n",
    "        self.links: list[tuple[Node, float]] = []\n",
    "\n",
    "    def __str__(self: \"Node\") -> str:\n",
    "        return str(self.value)\n",
    "\n",
    "    def __lt__(self: \"Node\", other: \"Node\") -> bool:\n",
    "        return self.weight[0] < other.weight[0]\n",
    "\n",
    "    def add_link(self: \"Node\", node: \"Node\", weight: int) -> None:\n",
    "        self.links.append((node, weight))\n",
    "\n",
    "    def update_weight(self: \"Node\", weight: float, prev: \"Node\") -> None:\n",
    "        self.weight = weight, prev\n"
   ]
  },
  {
   "cell_type": "code",
   "execution_count": 10,
   "metadata": {},
   "outputs": [],
   "source": [
    "\n",
    "def dijkstra_route(start: Node, end: Node, ns: list[Node]) -> list[Node]:\n",
    "    nodes = ns.copy()\n",
    "\n",
    "    while len(nodes) > 0:\n",
    "        heapify(nodes)\n",
    "        node = heappop(nodes)\n",
    "        node.is_traversed = True\n",
    "\n",
    "        for neighbor, weight in node.links:\n",
    "            new_weight = node.weight[0] + weight\n",
    "            if not neighbor.is_traversed and new_weight < neighbor.weight[0]:\n",
    "                neighbor.update_weight(new_weight, node)\n",
    "\n",
    "    route: list[Node] = []\n",
    "    current_node = end\n",
    "    while current_node != start:\n",
    "        assert current_node.weight[1] is not None\n",
    "        route.append(current_node)\n",
    "        current_node = current_node.weight[1]\n",
    "    route.append(start)\n",
    "\n",
    "    route.reverse()\n",
    "\n",
    "    return route\n",
    "\n",
    "def traversed_nodes(ns: list[Node]) -> list[tuple[int | str, float]]:\n",
    "    nodes = ns.copy()\n",
    "    traversed_nodes: list[tuple[int | str, float]] = []\n",
    "\n",
    "    while len(nodes) > 0:\n",
    "        heapify(nodes)\n",
    "        node = heappop(nodes)\n",
    "        node.is_traversed = True\n",
    "        traversed_nodes.append((node.value, node.weight[0]))\n",
    "\n",
    "        for neighbor, weight in node.links:\n",
    "            new_weight = node.weight[0] + weight\n",
    "            if not neighbor.is_traversed and new_weight < neighbor.weight[0]:\n",
    "                neighbor.update_weight(new_weight, node)\n",
    "\n",
    "    return traversed_nodes\n"
   ]
  },
  {
   "cell_type": "code",
   "execution_count": 11,
   "metadata": {},
   "outputs": [],
   "source": [
    "node_s = Node(\"S\", 0)\n",
    "node_1 = Node(1)\n",
    "node_2 = Node(2)\n",
    "node_3 = Node(3)\n",
    "node_g = Node(\"G\")\n",
    "\n",
    "node_s.add_link(node_1, 220)\n",
    "node_s.add_link(node_2, 300)\n",
    "node_1.add_link(node_2, 120)\n",
    "node_1.add_link(node_3, 270)\n",
    "node_2.add_link(node_3, 130)\n",
    "node_2.add_link(node_g, 250)\n",
    "node_3.add_link(node_g, 80)\n",
    "\n",
    "nodes = [node_s, node_1, node_2, node_3, node_g]\n"
   ]
  },
  {
   "cell_type": "code",
   "execution_count": 13,
   "metadata": {},
   "outputs": [
    {
     "name": "stdout",
     "output_type": "stream",
     "text": [
      "S, 2, 3, G\n",
      "S(0), 1(220), 2(300), 3(430), G(510)\n"
     ]
    }
   ],
   "source": [
    "print(\", \".join(map(str, dijkstra_route(node_s, node_g, nodes))))\n",
    "print(\", \".join(map(lambda node: f\"{node[0]}({node[1]})\", traversed_nodes(nodes))))\n"
   ]
  }
 ],
 "metadata": {
  "kernelspec": {
   "display_name": "venv",
   "language": "python",
   "name": "python3"
  },
  "language_info": {
   "codemirror_mode": {
    "name": "ipython",
    "version": 3
   },
   "file_extension": ".py",
   "mimetype": "text/x-python",
   "name": "python",
   "nbconvert_exporter": "python",
   "pygments_lexer": "ipython3",
   "version": "3.12.0"
  }
 },
 "nbformat": 4,
 "nbformat_minor": 2
}
