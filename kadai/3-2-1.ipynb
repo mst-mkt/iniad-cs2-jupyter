{
 "cells": [
  {
   "cell_type": "code",
   "execution_count": 7,
   "metadata": {},
   "outputs": [],
   "source": [
    "list1 = [8, 1, 2, 7, 5, 6, 3, 4]\n",
    "list2 = [10, 2, 5, 8, 1, 4, 3, 7, 9, 6]\n"
   ]
  },
  {
   "cell_type": "code",
   "execution_count": 8,
   "metadata": {},
   "outputs": [],
   "source": [
    "def quick_sort(lst: list[list[int]]) -> list[list[int]]:\n",
    "    sorted_list: list[list[int]] = []\n",
    "\n",
    "    for i, l in enumerate(lst):\n",
    "        if len(l) <= 1:\n",
    "            sorted_list.append(l)\n",
    "            continue\n",
    "\n",
    "        else:\n",
    "            pivot = l[0]\n",
    "            left = [x for x in l[1:] if x <= pivot]\n",
    "            center = [x for x in l if x == pivot]\n",
    "            right = [x for x in l[1:] if x > pivot]\n",
    "\n",
    "            for li in [left, center, right]:\n",
    "                if len(li) > 0:\n",
    "                    sorted_list.append(li)\n",
    "\n",
    "            sorted_list.extend(lst[i+1:])\n",
    "            break\n",
    "\n",
    "    return sorted_list\n"
   ]
  },
  {
   "cell_type": "code",
   "execution_count": 9,
   "metadata": {},
   "outputs": [],
   "source": [
    "def join_comma(lst: list[int]) -> str:\n",
    "    return '(' + ', '.join(map(str, lst)) + ')'\n"
   ]
  },
  {
   "cell_type": "code",
   "execution_count": 10,
   "metadata": {},
   "outputs": [],
   "source": [
    "def print_list(lst: list[list[int]]) -> None:\n",
    "    is_continue = True\n",
    "    while is_continue:\n",
    "        lst = quick_sort(lst)\n",
    "        print(\", \".join(map(join_comma, lst)))\n",
    "        if all(len(l) == 1 for l in lst):\n",
    "            is_continue = False\n"
   ]
  },
  {
   "cell_type": "code",
   "execution_count": 11,
   "metadata": {},
   "outputs": [
    {
     "name": "stdout",
     "output_type": "stream",
     "text": [
      "(1, 2, 7, 5, 6, 3, 4), (8)\n",
      "(1), (2, 7, 5, 6, 3, 4), (8)\n",
      "(1), (2), (7, 5, 6, 3, 4), (8)\n",
      "(1), (2), (5, 6, 3, 4), (7), (8)\n",
      "(1), (2), (3, 4), (5), (6), (7), (8)\n",
      "(1), (2), (3), (4), (5), (6), (7), (8)\n"
     ]
    }
   ],
   "source": [
    "print_list([list1])\n"
   ]
  },
  {
   "cell_type": "code",
   "execution_count": 12,
   "metadata": {},
   "outputs": [
    {
     "name": "stdout",
     "output_type": "stream",
     "text": [
      "(2, 5, 8, 1, 4, 3, 7, 9, 6), (10)\n",
      "(1), (2), (5, 8, 4, 3, 7, 9, 6), (10)\n",
      "(1), (2), (4, 3), (5), (8, 7, 9, 6), (10)\n",
      "(1), (2), (3), (4), (5), (8, 7, 9, 6), (10)\n",
      "(1), (2), (3), (4), (5), (7, 6), (8), (9), (10)\n",
      "(1), (2), (3), (4), (5), (6), (7), (8), (9), (10)\n"
     ]
    }
   ],
   "source": [
    "print_list([list2])\n"
   ]
  }
 ],
 "metadata": {
  "kernelspec": {
   "display_name": "venv",
   "language": "python",
   "name": "python3"
  },
  "language_info": {
   "codemirror_mode": {
    "name": "ipython",
    "version": 3
   },
   "file_extension": ".py",
   "mimetype": "text/x-python",
   "name": "python",
   "nbconvert_exporter": "python",
   "pygments_lexer": "ipython3",
   "version": "3.12.0"
  },
  "orig_nbformat": 4
 },
 "nbformat": 4,
 "nbformat_minor": 2
}
