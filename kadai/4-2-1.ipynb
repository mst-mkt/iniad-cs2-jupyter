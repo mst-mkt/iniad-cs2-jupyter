{
 "cells": [
  {
   "cell_type": "code",
   "execution_count": 1,
   "metadata": {},
   "outputs": [],
   "source": [
    "from collections import deque\n"
   ]
  },
  {
   "cell_type": "code",
   "execution_count": 2,
   "metadata": {},
   "outputs": [],
   "source": [
    "def stack_pop_append(stack: deque[int], x: int) -> deque[int]:\n",
    "    if x % 5 == 0:\n",
    "        stack.popleft()\n",
    "    else:\n",
    "        stack.appendleft(x)\n",
    "    return stack\n"
   ]
  },
  {
   "cell_type": "code",
   "execution_count": 3,
   "metadata": {},
   "outputs": [
    {
     "name": "stdout",
     "output_type": "stream",
     "text": [
      "14, 13, 12, 11, 8, 7, 6, 3, 2, 1\n"
     ]
    }
   ],
   "source": [
    "stack: deque[int] = deque([])\n",
    "i_stack = 0\n",
    "\n",
    "while len(stack) < 10:\n",
    "    i_stack += 1\n",
    "    stack = stack_pop_append(stack, i_stack)\n",
    "\n",
    "print(\", \".join(map(str, stack)))\n"
   ]
  },
  {
   "cell_type": "code",
   "execution_count": 4,
   "metadata": {},
   "outputs": [],
   "source": [
    "def queue_dequeue_enqueue(queue: deque[int], x: int) -> deque[int]:\n",
    "    if x % 3 == 0:\n",
    "        queue.popleft()\n",
    "    else:\n",
    "        queue.append(x)\n",
    "    return queue\n"
   ]
  },
  {
   "cell_type": "code",
   "execution_count": 5,
   "metadata": {},
   "outputs": [
    {
     "name": "stdout",
     "output_type": "stream",
     "text": [
      "13, 14, 16, 17, 19, 20, 22, 23, 25, 26\n"
     ]
    }
   ],
   "source": [
    "queue: deque[int] = deque([])\n",
    "i_queue = 0\n",
    "\n",
    "while len(queue) < 10:\n",
    "    i_queue += 1\n",
    "    queue = queue_dequeue_enqueue(queue, i_queue)\n",
    "\n",
    "print(\", \".join(map(str, queue)))\n"
   ]
  }
 ],
 "metadata": {
  "kernelspec": {
   "display_name": "venv",
   "language": "python",
   "name": "python3"
  },
  "language_info": {
   "codemirror_mode": {
    "name": "ipython",
    "version": 3
   },
   "file_extension": ".py",
   "mimetype": "text/x-python",
   "name": "python",
   "nbconvert_exporter": "python",
   "pygments_lexer": "ipython3",
   "version": "3.12.0"
  },
  "orig_nbformat": 4
 },
 "nbformat": 4,
 "nbformat_minor": 2
}
