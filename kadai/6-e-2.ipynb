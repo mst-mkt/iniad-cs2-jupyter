{
 "cells": [
  {
   "cell_type": "code",
   "execution_count": 1,
   "metadata": {},
   "outputs": [],
   "source": [
    "from collections import deque\n",
    "from typing import Literal, Optional\n"
   ]
  },
  {
   "cell_type": "code",
   "execution_count": 2,
   "metadata": {},
   "outputs": [],
   "source": [
    "Sign = Literal[\"+\", \"-\", \"*\", \"/\"]\n",
    "\n",
    "\n",
    "class Node:\n",
    "    def __init__(\n",
    "        self: \"Node\",\n",
    "        value: Sign | int,\n",
    "        left: Optional[\"Node\"] = None,\n",
    "        right: Optional[\"Node\"] = None,\n",
    "    ) -> None:\n",
    "        self.value = value\n",
    "        self.left = left\n",
    "        self.right = right\n"
   ]
  },
  {
   "cell_type": "code",
   "execution_count": 3,
   "metadata": {},
   "outputs": [],
   "source": [
    "def compute(node: Node, stack: deque[int]) -> int:\n",
    "    if node.left is not None:\n",
    "        compute(node.left, stack)\n",
    "    if node.right is not None:\n",
    "        compute(node.right, stack)\n",
    "    if node.value == \"+\":\n",
    "        stack.append(stack.pop() + stack.pop())\n",
    "    elif node.value == \"-\":\n",
    "        stack.append(-stack.pop() + stack.pop())\n",
    "    elif node.value == \"*\":\n",
    "        stack.append(stack.pop() * stack.pop())\n",
    "    elif node.value == \"/\":\n",
    "        stack.append(1 / (stack.pop() / stack.pop()))\n",
    "    else:\n",
    "        stack.append(node.value)\n"
   ]
  },
  {
   "cell_type": "code",
   "execution_count": 4,
   "metadata": {},
   "outputs": [
    {
     "name": "stdout",
     "output_type": "stream",
     "text": [
      "42\n"
     ]
    }
   ],
   "source": [
    "tree = Node(\"*\", Node(\"+\", Node(\"-\", Node(9), Node(3)), Node(1)), Node(6))\n",
    "stack = deque()\n",
    "compute(tree, stack)\n",
    "print(stack[0])\n"
   ]
  }
 ],
 "metadata": {
  "kernelspec": {
   "display_name": "venv",
   "language": "python",
   "name": "python3"
  },
  "language_info": {
   "codemirror_mode": {
    "name": "ipython",
    "version": 3
   },
   "file_extension": ".py",
   "mimetype": "text/x-python",
   "name": "python",
   "nbconvert_exporter": "python",
   "pygments_lexer": "ipython3",
   "version": "3.12.0"
  }
 },
 "nbformat": 4,
 "nbformat_minor": 2
}
