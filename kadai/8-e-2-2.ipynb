{
 "cells": [
  {
   "cell_type": "code",
   "execution_count": 1,
   "metadata": {},
   "outputs": [],
   "source": [
    "def linear_search_compared(lst: list[int], target: int) -> list[int]:\n",
    "    compared: list[int] = []\n",
    "    for item in lst:\n",
    "        compared.append(item)\n",
    "        if item == target:\n",
    "            return compared\n",
    "    return compared\n",
    "\n",
    "\n",
    "def linear_search_count(lst: list[int], target: int) -> int:\n",
    "    count: int = 0\n",
    "    for item in lst:\n",
    "        count += 1\n",
    "        if item == target:\n",
    "            return count\n",
    "    return count\n"
   ]
  },
  {
   "cell_type": "code",
   "execution_count": 2,
   "metadata": {},
   "outputs": [],
   "source": [
    "lst = [9, 10, 25, 27, 43, 55, 77, 78, 90, 95]\n",
    "target = 95\n"
   ]
  },
  {
   "cell_type": "code",
   "execution_count": 3,
   "metadata": {},
   "outputs": [
    {
     "name": "stdout",
     "output_type": "stream",
     "text": [
      "9, 10, 25, 27, 43, 55, 77, 78, 90, 95\n"
     ]
    }
   ],
   "source": [
    "print(\", \".join(map(str, linear_search_compared(lst, target))))\n"
   ]
  },
  {
   "cell_type": "code",
   "execution_count": 4,
   "metadata": {},
   "outputs": [
    {
     "name": "stdout",
     "output_type": "stream",
     "text": [
      "10\n"
     ]
    }
   ],
   "source": [
    "print(linear_search_count(lst, target))\n"
   ]
  }
 ],
 "metadata": {
  "kernelspec": {
   "display_name": "venv",
   "language": "python",
   "name": "python3"
  },
  "language_info": {
   "codemirror_mode": {
    "name": "ipython",
    "version": 3
   },
   "file_extension": ".py",
   "mimetype": "text/x-python",
   "name": "python",
   "nbconvert_exporter": "python",
   "pygments_lexer": "ipython3",
   "version": "3.12.0"
  }
 },
 "nbformat": 4,
 "nbformat_minor": 2
}
