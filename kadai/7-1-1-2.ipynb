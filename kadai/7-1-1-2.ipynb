{
 "cells": [
  {
   "cell_type": "code",
   "execution_count": 1,
   "metadata": {},
   "outputs": [],
   "source": [
    "def f(lst: list[int]) -> int:\n",
    "    result = 0\n",
    "    i = len(lst)\n",
    "    while i > 0:\n",
    "        result += lst[i - 1]\n",
    "        i = i // 2\n",
    "    return result\n"
   ]
  },
  {
   "cell_type": "code",
   "execution_count": 2,
   "metadata": {},
   "outputs": [],
   "source": [
    "import random as r\n"
   ]
  },
  {
   "cell_type": "code",
   "execution_count": 3,
   "metadata": {},
   "outputs": [
    {
     "name": "stdout",
     "output_type": "stream",
     "text": [
      "4.47 µs ± 649 ns per loop (mean ± std. dev. of 7 runs, 100,000 loops each)\n",
      "4.8 µs ± 622 ns per loop (mean ± std. dev. of 7 runs, 100,000 loops each)\n",
      "5.12 µs ± 279 ns per loop (mean ± std. dev. of 7 runs, 100,000 loops each)\n",
      "5.06 µs ± 370 ns per loop (mean ± std. dev. of 7 runs, 100,000 loops each)\n",
      "5.05 µs ± 490 ns per loop (mean ± std. dev. of 7 runs, 100,000 loops each)\n",
      "4.8 µs ± 264 ns per loop (mean ± std. dev. of 7 runs, 100,000 loops each)\n",
      "4.8 µs ± 446 ns per loop (mean ± std. dev. of 7 runs, 100,000 loops each)\n",
      "5.26 µs ± 555 ns per loop (mean ± std. dev. of 7 runs, 100,000 loops each)\n",
      "5.63 µs ± 408 ns per loop (mean ± std. dev. of 7 runs, 100,000 loops each)\n",
      "5.49 µs ± 402 ns per loop (mean ± std. dev. of 7 runs, 100,000 loops each)\n"
     ]
    }
   ],
   "source": [
    "lst = [r.sample(range(2 * n), k=n) for n in range(100_000, 1_000_001, 100_000)]\n",
    "\n",
    "for l in lst:\n",
    "    %timeit f(l)\n"
   ]
  }
 ],
 "metadata": {
  "kernelspec": {
   "display_name": "venv",
   "language": "python",
   "name": "python3"
  },
  "language_info": {
   "codemirror_mode": {
    "name": "ipython",
    "version": 3
   },
   "file_extension": ".py",
   "mimetype": "text/x-python",
   "name": "python",
   "nbconvert_exporter": "python",
   "pygments_lexer": "ipython3",
   "version": "3.12.0"
  }
 },
 "nbformat": 4,
 "nbformat_minor": 2
}
