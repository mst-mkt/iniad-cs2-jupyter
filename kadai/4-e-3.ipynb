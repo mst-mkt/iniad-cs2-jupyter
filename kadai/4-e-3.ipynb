{
 "cells": [
  {
   "cell_type": "code",
   "execution_count": 1,
   "metadata": {},
   "outputs": [],
   "source": [
    "def insertion_sort(l: list[int]) -> list[int]:\n",
    "    lst = l.copy()\n",
    "    for i in range(1, len(lst)):\n",
    "        j = i\n",
    "        while j > 0 and lst[j - 1] > lst[j]:\n",
    "            lst[j], lst[j - 1] = lst[j - 1], lst[j]\n",
    "            j -= 1\n",
    "    return lst"
   ]
  }
 ],
 "metadata": {
  "kernelspec": {
   "display_name": "venv",
   "language": "python",
   "name": "python3"
  },
  "language_info": {
   "codemirror_mode": {
    "name": "ipython",
    "version": 3
   },
   "file_extension": ".py",
   "mimetype": "text/x-python",
   "name": "python",
   "nbconvert_exporter": "python",
   "pygments_lexer": "ipython3",
   "version": "3.12.0"
  }
 },
 "nbformat": 4,
 "nbformat_minor": 2
}
