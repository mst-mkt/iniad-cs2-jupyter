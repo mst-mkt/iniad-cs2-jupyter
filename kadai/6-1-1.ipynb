{
 "cells": [
  {
   "cell_type": "code",
   "execution_count": 1,
   "metadata": {},
   "outputs": [],
   "source": [
    "from collections import deque\n"
   ]
  },
  {
   "cell_type": "code",
   "execution_count": 2,
   "metadata": {},
   "outputs": [],
   "source": [
    "class Node:\n",
    "    def __init__(self: \"Node\", value: int) -> None:\n",
    "        self.value = value\n",
    "        self.is_traversed = False\n",
    "        self.links: list[\"Node\"] = []\n",
    "\n",
    "    def __str__(self: \"Node\") -> str:\n",
    "        return str(self.value)\n",
    "\n",
    "    def add_link(self: \"Node\", node: \"Node\") -> None:\n",
    "        self.links.append(node)\n",
    "\n",
    "    def adjacent(self: \"Node\", node: \"Node\") -> bool:\n",
    "        return node in self.links\n"
   ]
  },
  {
   "cell_type": "code",
   "execution_count": 3,
   "metadata": {},
   "outputs": [],
   "source": [
    "def depth_first_traversal(node: Node) -> None:\n",
    "    node.is_traversed = True\n",
    "    print(node, end=\", \")\n",
    "\n",
    "    for next in node.links:\n",
    "        if not next.is_traversed:\n",
    "            depth_first_traversal(next)\n",
    "\n",
    "def breadth_first_traversal(node: Node) -> None:\n",
    "    queue: deque[Node] = deque()\n",
    "    queue.append(node)\n",
    "    node.is_traversed = True\n",
    "\n",
    "    while len(queue) > 0:\n",
    "        node = queue.popleft()\n",
    "        print(node, end=\", \")\n",
    "        for next in node.links:\n",
    "            if not next.is_traversed:\n",
    "                queue.append(next)\n",
    "                next.is_traversed = True\n",
    "\n",
    "def reset_traversed(nodes: list[Node]) -> None:\n",
    "    for node in nodes:\n",
    "        node.is_traversed = False\n"
   ]
  },
  {
   "cell_type": "code",
   "execution_count": 4,
   "metadata": {},
   "outputs": [],
   "source": [
    "def make_graph1() -> list[Node]:\n",
    "    node_1 = Node(1)\n",
    "    node_2 = Node(2)\n",
    "    node_3 = Node(3)\n",
    "    node_4 = Node(4)\n",
    "    node_5 = Node(5)\n",
    "    node_6 = Node(6)\n",
    "\n",
    "    node_1.add_link(node_2)\n",
    "    node_1.add_link(node_3)\n",
    "    node_1.add_link(node_4)\n",
    "    node_2.add_link(node_6)\n",
    "    node_3.add_link(node_2)\n",
    "    node_3.add_link(node_6)\n",
    "    node_5.add_link(node_3)\n",
    "    node_5.add_link(node_4)\n",
    "    node_6.add_link(node_5)\n",
    "\n",
    "    return [node_1, node_2, node_3, node_4, node_5, node_6]\n",
    "\n",
    "def make_graph2() -> list[Node]:\n",
    "    node_1 = Node(1)\n",
    "    node_2 = Node(2)\n",
    "    node_3 = Node(3)\n",
    "    node_4 = Node(4)\n",
    "    node_5 = Node(5)\n",
    "    node_6 = Node(6)\n",
    "    node_7 = Node(7)\n",
    "    node_8 = Node(8)\n",
    "\n",
    "    node_1.add_link(node_2)\n",
    "    node_1.add_link(node_3)\n",
    "    node_2.add_link(node_5)\n",
    "    node_2.add_link(node_6)\n",
    "    node_3.add_link(node_4)\n",
    "    node_3.add_link(node_5)\n",
    "    node_4.add_link(node_7)\n",
    "    node_5.add_link(node_7)\n",
    "    node_6.add_link(node_5)\n",
    "    node_6.add_link(node_8)\n",
    "\n",
    "    return [node_1, node_2, node_3, node_4, node_5, node_6, node_7, node_8]\n",
    "\n",
    "graph_1 = make_graph1()\n",
    "graph_2 = make_graph2()\n"
   ]
  },
  {
   "cell_type": "code",
   "execution_count": 5,
   "metadata": {},
   "outputs": [
    {
     "name": "stdout",
     "output_type": "stream",
     "text": [
      "(1)\n",
      "Depth First Traversal\n",
      "1, 2, 6, 5, 3, 4, \n",
      "Breadth First Traversal\n",
      "1, 2, 3, 4, 6, 5, \n",
      "\n",
      "(2)\n",
      "Depth First Traversal\n",
      "1, 2, 5, 7, 6, 8, 3, 4, \n",
      "Breadth First Traversal\n",
      "1, 2, 3, 5, 6, 4, 7, 8, "
     ]
    }
   ],
   "source": [
    "print(\"(1)\")\n",
    "reset_traversed(graph_1)\n",
    "print(\"Depth First Traversal\")\n",
    "depth_first_traversal(graph_1[0])\n",
    "reset_traversed(graph_1)\n",
    "print(\"\\nBreadth First Traversal\")\n",
    "breadth_first_traversal(graph_1[0])\n",
    "\n",
    "print(\"\\n\\n(2)\")\n",
    "reset_traversed(graph_2)\n",
    "print(\"Depth First Traversal\")\n",
    "depth_first_traversal(graph_2[0])\n",
    "reset_traversed(graph_2)\n",
    "print(\"\\nBreadth First Traversal\")\n",
    "breadth_first_traversal(graph_2[0])\n"
   ]
  }
 ],
 "metadata": {
  "kernelspec": {
   "display_name": "venv",
   "language": "python",
   "name": "python3"
  },
  "language_info": {
   "codemirror_mode": {
    "name": "ipython",
    "version": 3
   },
   "file_extension": ".py",
   "mimetype": "text/x-python",
   "name": "python",
   "nbconvert_exporter": "python",
   "pygments_lexer": "ipython3",
   "version": "3.12.0"
  }
 },
 "nbformat": 4,
 "nbformat_minor": 2
}
