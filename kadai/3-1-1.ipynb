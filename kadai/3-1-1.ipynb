{
 "cells": [
  {
   "cell_type": "code",
   "execution_count": 1,
   "metadata": {},
   "outputs": [],
   "source": [
    "class Student:\n",
    "    def __init__(self, student_id: int, family_name: str, first_name: str) -> None:\n",
    "        self.student_id = student_id\n",
    "        self.family_name = family_name\n",
    "        self.first_name = first_name\n",
    "\n",
    "    def __lt__(self, other: 'Student') -> bool:\n",
    "        return self.student_id < other.student_id"
   ]
  },
  {
   "cell_type": "code",
   "execution_count": 2,
   "metadata": {},
   "outputs": [
    {
     "name": "stdout",
     "output_type": "stream",
     "text": [
      "Yamada Tanaka Inoue\n"
     ]
    }
   ],
   "source": [
    "lst_2 = [Student(112, 'Tanaka', 'Taro'), Student(110, 'Yamada', 'Hanako'), Student(231, 'Inoue', 'Ken')]\n",
    "sorted_list_2 = sorted(lst_2)\n",
    "\n",
    "print(sorted_list_2[0].family_name, sorted_list_2[1].family_name, sorted_list_2[2].family_name)"
   ]
  },
  {
   "cell_type": "code",
   "execution_count": 3,
   "metadata": {},
   "outputs": [],
   "source": [
    "def func(student: Student) -> None:\n",
    "    return student.family_name"
   ]
  },
  {
   "cell_type": "code",
   "execution_count": 4,
   "metadata": {},
   "outputs": [
    {
     "name": "stdout",
     "output_type": "stream",
     "text": [
      "Inoue Tanaka Yamada\n"
     ]
    }
   ],
   "source": [
    "lst_2 = [Student(112, 'Tanaka', 'Taro'), Student(110, 'Yamada', 'Hanako'), Student(231, 'Inoue', 'Ken')]\n",
    "sorted_list_2 = sorted(lst_2, key=func)\n",
    "\n",
    "print(sorted_list_2[0].family_name, sorted_list_2[1].family_name, sorted_list_2[2].family_name)"
   ]
  }
 ],
 "metadata": {
  "kernelspec": {
   "display_name": "venv",
   "language": "python",
   "name": "python3"
  },
  "language_info": {
   "codemirror_mode": {
    "name": "ipython",
    "version": 3
   },
   "file_extension": ".py",
   "mimetype": "text/x-python",
   "name": "python",
   "nbconvert_exporter": "python",
   "pygments_lexer": "ipython3",
   "version": "3.11.4"
  },
  "orig_nbformat": 4
 },
 "nbformat": 4,
 "nbformat_minor": 2
}
