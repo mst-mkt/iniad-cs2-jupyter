{
 "cells": [
  {
   "cell_type": "code",
   "execution_count": 1,
   "metadata": {},
   "outputs": [],
   "source": [
    "class Node:\n",
    "    def __init__(self: \"Node\", value: int) -> None:\n",
    "        self.value = value\n",
    "        self.left = None\n",
    "        self.right = None\n",
    "\n",
    "    def __str__(self: \"Node\") -> str:\n",
    "        return str(self.value)\n"
   ]
  },
  {
   "cell_type": "code",
   "execution_count": 2,
   "metadata": {},
   "outputs": [],
   "source": [
    "def depth(node: Node, x: int) -> int:\n",
    "    if node.value == x:\n",
    "        return 0\n",
    "\n",
    "    if node.left is not None:\n",
    "        depth_left = depth(node.left, x)\n",
    "        if depth_left >= 0:\n",
    "            return depth_left + 1\n",
    "\n",
    "    if node.right is not None:\n",
    "        depth_right = depth(node.right, x)\n",
    "        if depth_right >= 0:\n",
    "            return depth_right + 1\n",
    "\n",
    "    return -1\n"
   ]
  }
 ],
 "metadata": {
  "kernelspec": {
   "display_name": "venv",
   "language": "python",
   "name": "python3"
  },
  "language_info": {
   "codemirror_mode": {
    "name": "ipython",
    "version": 3
   },
   "file_extension": ".py",
   "mimetype": "text/x-python",
   "name": "python",
   "nbconvert_exporter": "python",
   "pygments_lexer": "ipython3",
   "version": "3.12.0"
  }
 },
 "nbformat": 4,
 "nbformat_minor": 2
}
