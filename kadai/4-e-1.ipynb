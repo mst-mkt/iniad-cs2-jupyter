{
 "cells": [
  {
   "cell_type": "code",
   "execution_count": 25,
   "metadata": {},
   "outputs": [],
   "source": [
    "const selectSortCount = (arr: number[]): [number, number] => {\n",
    "    const array = [...arr];\n",
    "    const length = array.length;\n",
    "\n",
    "    let compareCount = 0\n",
    "    let swapCount = 0\n",
    "\n",
    "    for (let i = 0; i < length - 1; i++) {\n",
    "        let minPos = i;\n",
    "        for (let j = i + 1; j < length; j++) {\n",
    "            compareCount++;\n",
    "            if (array[j] < array[minPos]) {\n",
    "                minPos = j;\n",
    "            }\n",
    "        }\n",
    "        if (i !== minPos) {\n",
    "            swapCount++;\n",
    "            [array[i], array[minPos]] = [array[minPos], array[i]];\n",
    "        }\n",
    "    }\n",
    "\n",
    "    return [compareCount, swapCount];\n",
    "}"
   ]
  },
  {
   "cell_type": "code",
   "execution_count": 26,
   "metadata": {},
   "outputs": [
    {
     "name": "stdout",
     "output_type": "stream",
     "text": [
      "10 3\n",
      "10 0\n",
      "10 4\n"
     ]
    }
   ],
   "source": [
    "const arrA = [3, 2, 5, 1, 4]\n",
    "const arrB = [1, 2, 3, 4, 5]\n",
    "const arrC = [3, 5, 2, 1, 4]\n",
    "\n",
    "console.log(...selectSortCount(arrA));\n",
    "console.log(...selectSortCount(arrB));\n",
    "console.log(...selectSortCount(arrC));"
   ]
  }
 ],
 "metadata": {
  "kernelspec": {
   "display_name": "TypeScript",
   "language": "typescript",
   "name": "tslab"
  },
  "language_info": {
   "codemirror_mode": {
    "mode": "typescript",
    "name": "javascript",
    "typescript": true
   },
   "file_extension": ".ts",
   "mimetype": "text/typescript",
   "name": "typescript",
   "version": "3.7.2"
  },
  "orig_nbformat": 4
 },
 "nbformat": 4,
 "nbformat_minor": 2
}
